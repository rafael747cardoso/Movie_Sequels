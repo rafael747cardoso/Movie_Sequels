{
 "cells": [
  {
   "cell_type": "markdown",
   "metadata": {},
   "source": [
    "## Movie Sequel ratings"
   ]
  },
  {
   "cell_type": "code",
   "execution_count": 34,
   "metadata": {},
   "outputs": [],
   "source": [
    "# Packages:\n",
    "import numpy as np\n",
    "import pandas as pd\n",
    "import plotly.graph_objects as go\n",
    "from matplotlib.colors import LinearSegmentedColormap, to_hex\n",
    "import re\n",
    "import plotly.figure_factory as ff\n",
    "\n",
    "# Display options:\n",
    "pd.set_option(\"display.width\", 1200)\n",
    "pd.set_option(\"display.max_columns\", 300)\n",
    "pd.set_option(\"display.max_rows\", 20)"
   ]
  },
  {
   "cell_type": "markdown",
   "metadata": {},
   "source": [
    "## Data"
   ]
  },
  {
   "cell_type": "code",
   "execution_count": 35,
   "metadata": {},
   "outputs": [],
   "source": [
    "df_franchises = pd.read_csv(\"franchises.csv\")"
   ]
  },
  {
   "cell_type": "code",
   "execution_count": 36,
   "metadata": {},
   "outputs": [
    {
     "data": {
      "text/html": [
       "<div>\n",
       "<style scoped>\n",
       "    .dataframe tbody tr th:only-of-type {\n",
       "        vertical-align: middle;\n",
       "    }\n",
       "\n",
       "    .dataframe tbody tr th {\n",
       "        vertical-align: top;\n",
       "    }\n",
       "\n",
       "    .dataframe thead th {\n",
       "        text-align: right;\n",
       "    }\n",
       "</style>\n",
       "<table border=\"1\" class=\"dataframe\">\n",
       "  <thead>\n",
       "    <tr style=\"text-align: right;\">\n",
       "      <th></th>\n",
       "      <th>Franchise</th>\n",
       "      <th>Movie</th>\n",
       "      <th>movie_year</th>\n",
       "      <th>averageRating</th>\n",
       "      <th>numVotes</th>\n",
       "      <th>order</th>\n",
       "    </tr>\n",
       "  </thead>\n",
       "  <tbody>\n",
       "    <tr>\n",
       "      <th>0</th>\n",
       "      <td>Mad Max</td>\n",
       "      <td>Mad Max</td>\n",
       "      <td>1979.0</td>\n",
       "      <td>6.8</td>\n",
       "      <td>204547.0</td>\n",
       "      <td>1</td>\n",
       "    </tr>\n",
       "    <tr>\n",
       "      <th>1</th>\n",
       "      <td>Mad Max</td>\n",
       "      <td>The Road Warrior</td>\n",
       "      <td>1981.0</td>\n",
       "      <td>7.6</td>\n",
       "      <td>178116.0</td>\n",
       "      <td>2</td>\n",
       "    </tr>\n",
       "    <tr>\n",
       "      <th>2</th>\n",
       "      <td>Mad Max</td>\n",
       "      <td>Mad Max Beyond Thunderdome</td>\n",
       "      <td>1985.0</td>\n",
       "      <td>6.2</td>\n",
       "      <td>135391.0</td>\n",
       "      <td>3</td>\n",
       "    </tr>\n",
       "    <tr>\n",
       "      <th>3</th>\n",
       "      <td>Mad Max</td>\n",
       "      <td>Mad Max: Fury Road</td>\n",
       "      <td>2015.0</td>\n",
       "      <td>8.1</td>\n",
       "      <td>973185.0</td>\n",
       "      <td>4</td>\n",
       "    </tr>\n",
       "    <tr>\n",
       "      <th>4</th>\n",
       "      <td>The Lord of the Rings</td>\n",
       "      <td>The Lord of the Rings: The Fellowship of the Ring</td>\n",
       "      <td>2001.0</td>\n",
       "      <td>8.8</td>\n",
       "      <td>1804967.0</td>\n",
       "      <td>1</td>\n",
       "    </tr>\n",
       "    <tr>\n",
       "      <th>...</th>\n",
       "      <td>...</td>\n",
       "      <td>...</td>\n",
       "      <td>...</td>\n",
       "      <td>...</td>\n",
       "      <td>...</td>\n",
       "      <td>...</td>\n",
       "    </tr>\n",
       "    <tr>\n",
       "      <th>270</th>\n",
       "      <td>John Wick</td>\n",
       "      <td>John Wick: Chapter 3 - Parabellum</td>\n",
       "      <td>2019.0</td>\n",
       "      <td>7.4</td>\n",
       "      <td>328069.0</td>\n",
       "      <td>3</td>\n",
       "    </tr>\n",
       "    <tr>\n",
       "      <th>271</th>\n",
       "      <td>The Matrix</td>\n",
       "      <td>The Matrix</td>\n",
       "      <td>1999.0</td>\n",
       "      <td>8.7</td>\n",
       "      <td>1864956.0</td>\n",
       "      <td>1</td>\n",
       "    </tr>\n",
       "    <tr>\n",
       "      <th>272</th>\n",
       "      <td>The Matrix</td>\n",
       "      <td>The Matrix Reloaded</td>\n",
       "      <td>2003.0</td>\n",
       "      <td>7.2</td>\n",
       "      <td>586141.0</td>\n",
       "      <td>2</td>\n",
       "    </tr>\n",
       "    <tr>\n",
       "      <th>273</th>\n",
       "      <td>The Matrix</td>\n",
       "      <td>The Matrix Revolutions</td>\n",
       "      <td>2003.0</td>\n",
       "      <td>6.7</td>\n",
       "      <td>505906.0</td>\n",
       "      <td>3</td>\n",
       "    </tr>\n",
       "    <tr>\n",
       "      <th>274</th>\n",
       "      <td>The Matrix</td>\n",
       "      <td>The Matrix Resurrections</td>\n",
       "      <td>2021.0</td>\n",
       "      <td>5.7</td>\n",
       "      <td>229445.0</td>\n",
       "      <td>4</td>\n",
       "    </tr>\n",
       "  </tbody>\n",
       "</table>\n",
       "<p>275 rows × 6 columns</p>\n",
       "</div>"
      ],
      "text/plain": [
       "                 Franchise                                              Movie  movie_year  averageRating   numVotes  order\n",
       "0                  Mad Max                                            Mad Max      1979.0            6.8   204547.0      1\n",
       "1                  Mad Max                                   The Road Warrior      1981.0            7.6   178116.0      2\n",
       "2                  Mad Max                         Mad Max Beyond Thunderdome      1985.0            6.2   135391.0      3\n",
       "3                  Mad Max                                 Mad Max: Fury Road      2015.0            8.1   973185.0      4\n",
       "4    The Lord of the Rings  The Lord of the Rings: The Fellowship of the Ring      2001.0            8.8  1804967.0      1\n",
       "..                     ...                                                ...         ...            ...        ...    ...\n",
       "270              John Wick                  John Wick: Chapter 3 - Parabellum      2019.0            7.4   328069.0      3\n",
       "271             The Matrix                                         The Matrix      1999.0            8.7  1864956.0      1\n",
       "272             The Matrix                                The Matrix Reloaded      2003.0            7.2   586141.0      2\n",
       "273             The Matrix                             The Matrix Revolutions      2003.0            6.7   505906.0      3\n",
       "274             The Matrix                           The Matrix Resurrections      2021.0            5.7   229445.0      4\n",
       "\n",
       "[275 rows x 6 columns]"
      ]
     },
     "execution_count": 36,
     "metadata": {},
     "output_type": "execute_result"
    }
   ],
   "source": [
    "df_franchises"
   ]
  },
  {
   "cell_type": "markdown",
   "metadata": {},
   "source": [
    "## Plot"
   ]
  },
  {
   "cell_type": "code",
   "execution_count": 37,
   "metadata": {},
   "outputs": [
    {
     "data": {
      "application/vnd.plotly.v1+json": {
       "config": {
        "plotlyServerURL": "https://plot.ly"
       },
       "data": [
        {
         "hovertemplate": "<b>order: %{x:}<br>averageRating: %{y:}<br>Franchise: Mad Max</b><extra></extra>",
         "line": {
          "color": "#111539",
          "width": 5
         },
         "marker": {
          "color": "#111539",
          "size": 10
         },
         "mode": "lines+markers",
         "name": "Mad Max",
         "type": "scatter",
         "x": [
          1,
          2,
          3,
          4
         ],
         "y": [
          6.8,
          7.6,
          6.2,
          8.1
         ]
        },
        {
         "hovertemplate": "<b>order: %{x:}<br>averageRating: %{y:}<br>Franchise: The Lord of the Rings</b><extra></extra>",
         "line": {
          "color": "#14183c",
          "width": 5
         },
         "marker": {
          "color": "#14183c",
          "size": 10
         },
         "mode": "lines+markers",
         "name": "The Lord of the Rings",
         "type": "scatter",
         "x": [
          1,
          2,
          3
         ],
         "y": [
          8.8,
          8.8,
          9
         ]
        },
        {
         "hovertemplate": "<b>order: %{x:}<br>averageRating: %{y:}<br>Franchise: The Hobbit</b><extra></extra>",
         "line": {
          "color": "#171b40",
          "width": 5
         },
         "marker": {
          "color": "#171b40",
          "size": 10
         },
         "mode": "lines+markers",
         "name": "The Hobbit",
         "type": "scatter",
         "x": [
          1,
          2,
          3
         ],
         "y": [
          7.8,
          7.8,
          7.4
         ]
        },
        {
         "hovertemplate": "<b>order: %{x:}<br>averageRating: %{y:}<br>Franchise: Harry Potter</b><extra></extra>",
         "line": {
          "color": "#1a1e44",
          "width": 5
         },
         "marker": {
          "color": "#1a1e44",
          "size": 10
         },
         "mode": "lines+markers",
         "name": "Harry Potter",
         "type": "scatter",
         "x": [
          1,
          2,
          3,
          4,
          5,
          6,
          7,
          8
         ],
         "y": [
          7.6,
          7.4,
          7.9,
          7.7,
          7.5,
          7.6,
          7.7,
          8.1
         ]
        },
        {
         "hovertemplate": "<b>order: %{x:}<br>averageRating: %{y:}<br>Franchise: Fantastic Beasts</b><extra></extra>",
         "line": {
          "color": "#1d2147",
          "width": 5
         },
         "marker": {
          "color": "#1d2147",
          "size": 10
         },
         "mode": "lines+markers",
         "name": "Fantastic Beasts",
         "type": "scatter",
         "x": [
          1,
          2,
          3
         ],
         "y": [
          7.2,
          6.5,
          6.2
         ]
        },
        {
         "hovertemplate": "<b>order: %{x:}<br>averageRating: %{y:}<br>Franchise: Mission: Impossible</b><extra></extra>",
         "line": {
          "color": "#20244b",
          "width": 5
         },
         "marker": {
          "color": "#20244b",
          "size": 10
         },
         "mode": "lines+markers",
         "name": "Mission: Impossible",
         "type": "scatter",
         "x": [
          1,
          2,
          3,
          4,
          5,
          6
         ],
         "y": [
          7.1,
          6.1,
          6.9,
          7.4,
          7.4,
          7.7
         ]
        },
        {
         "hovertemplate": "<b>order: %{x:}<br>averageRating: %{y:}<br>Franchise: Star Wars</b><extra></extra>",
         "line": {
          "color": "#23284e",
          "width": 5
         },
         "marker": {
          "color": "#23284e",
          "size": 10
         },
         "mode": "lines+markers",
         "name": "Star Wars",
         "type": "scatter",
         "x": [
          1,
          2,
          3,
          4,
          5,
          6,
          7,
          8,
          9,
          10,
          11
         ],
         "y": [
          8.6,
          8.7,
          8.3,
          6.5,
          6.6,
          7.6,
          7.8,
          7.8,
          6.9,
          6.9,
          6.5
         ]
        },
        {
         "hovertemplate": "<b>order: %{x:}<br>averageRating: %{y:}<br>Franchise: Bourne</b><extra></extra>",
         "line": {
          "color": "#252a51",
          "width": 5
         },
         "marker": {
          "color": "#252a51",
          "size": 10
         },
         "mode": "lines+markers",
         "name": "Bourne",
         "type": "scatter",
         "x": [
          1,
          2,
          3,
          4,
          5
         ],
         "y": [
          7.9,
          7.7,
          8,
          6.6,
          6.6
         ]
        },
        {
         "hovertemplate": "<b>order: %{x:}<br>averageRating: %{y:}<br>Franchise: Millennium</b><extra></extra>",
         "line": {
          "color": "#292e55",
          "width": 5
         },
         "marker": {
          "color": "#292e55",
          "size": 10
         },
         "mode": "lines+markers",
         "name": "Millennium",
         "type": "scatter",
         "x": [
          1,
          2,
          3
         ],
         "y": [
          7.1,
          7.3,
          7.8
         ]
        },
        {
         "hovertemplate": "<b>order: %{x:}<br>averageRating: %{y:}<br>Franchise: The Hunger Games</b><extra></extra>",
         "line": {
          "color": "#2c3159",
          "width": 5
         },
         "marker": {
          "color": "#2c3159",
          "size": 10
         },
         "mode": "lines+markers",
         "name": "The Hunger Games",
         "type": "scatter",
         "x": [
          1,
          2,
          3,
          4
         ],
         "y": [
          7.2,
          7.5,
          6.6,
          6.5
         ]
        },
        {
         "hovertemplate": "<b>order: %{x:}<br>averageRating: %{y:}<br>Franchise: Indiana Jones</b><extra></extra>",
         "line": {
          "color": "#2e345c",
          "width": 5
         },
         "marker": {
          "color": "#2e345c",
          "size": 10
         },
         "mode": "lines+markers",
         "name": "Indiana Jones",
         "type": "scatter",
         "x": [
          1,
          2,
          3,
          4
         ],
         "y": [
          8.4,
          7.5,
          8.2,
          6.1
         ]
        },
        {
         "hovertemplate": "<b>order: %{x:}<br>averageRating: %{y:}<br>Franchise: Spider-Man</b><extra></extra>",
         "line": {
          "color": "#323760",
          "width": 5
         },
         "marker": {
          "color": "#323760",
          "size": 10
         },
         "mode": "lines+markers",
         "name": "Spider-Man",
         "type": "scatter",
         "x": [
          1,
          2,
          3,
          4,
          5,
          6
         ],
         "y": [
          7.4,
          7.4,
          6.2,
          6.9,
          6.6,
          7.4
         ]
        },
        {
         "hovertemplate": "<b>order: %{x:}<br>averageRating: %{y:}<br>Franchise: The Muppets</b><extra></extra>",
         "line": {
          "color": "#353a64",
          "width": 5
         },
         "marker": {
          "color": "#353a64",
          "size": 10
         },
         "mode": "lines+markers",
         "name": "The Muppets",
         "type": "scatter",
         "x": [
          1,
          2,
          3,
          4,
          5,
          6,
          7,
          8
         ],
         "y": [
          7.6,
          7.1,
          6.8,
          7.7,
          6.9,
          6.2,
          7.1,
          6.4
         ]
        },
        {
         "hovertemplate": "<b>order: %{x:}<br>averageRating: %{y:}<br>Franchise: Ocean's Eleven</b><extra></extra>",
         "line": {
          "color": "#373d67",
          "width": 5
         },
         "marker": {
          "color": "#373d67",
          "size": 10
         },
         "mode": "lines+markers",
         "name": "Ocean's Eleven",
         "type": "scatter",
         "x": [
          1,
          2,
          3,
          4,
          5
         ],
         "y": [
          6.5,
          7.7,
          6.4,
          6.9,
          6.8
         ]
        },
        {
         "hovertemplate": "<b>order: %{x:}<br>averageRating: %{y:}<br>Franchise: X-Men</b><extra></extra>",
         "line": {
          "color": "#3b406b",
          "width": 5
         },
         "marker": {
          "color": "#3b406b",
          "size": 10
         },
         "mode": "lines+markers",
         "name": "X-Men",
         "type": "scatter",
         "x": [
          1,
          2,
          3,
          4,
          5,
          6,
          7,
          8,
          9,
          10,
          11
         ],
         "y": [
          7.3,
          7.4,
          6.6,
          6.5,
          7.7,
          6.7,
          7.9,
          8,
          6.9,
          8.1,
          7.7
         ]
        },
        {
         "hovertemplate": "<b>order: %{x:}<br>averageRating: %{y:}<br>Franchise: Star Trek</b><extra></extra>",
         "line": {
          "color": "#3e446e",
          "width": 5
         },
         "marker": {
          "color": "#3e446e",
          "size": 10
         },
         "mode": "lines+markers",
         "name": "Star Trek",
         "type": "scatter",
         "x": [
          1,
          2,
          3,
          4,
          5,
          6,
          7,
          8,
          9,
          10,
          11,
          12
         ],
         "y": [
          6.4,
          7.7,
          6.6,
          7.3,
          5.4,
          7.2,
          7.6,
          6.4,
          6.4,
          7.9,
          7.7,
          7
         ]
        },
        {
         "hovertemplate": "<b>order: %{x:}<br>averageRating: %{y:}<br>Franchise: Terminator</b><extra></extra>",
         "line": {
          "color": "#414772",
          "width": 5
         },
         "marker": {
          "color": "#414772",
          "size": 10
         },
         "mode": "lines+markers",
         "name": "Terminator",
         "type": "scatter",
         "x": [
          1,
          2,
          3,
          4,
          5,
          6
         ],
         "y": [
          8.1,
          8.6,
          6.3,
          6.5,
          6.3,
          6.2
         ]
        },
        {
         "hovertemplate": "<b>order: %{x:}<br>averageRating: %{y:}<br>Franchise: Planet of the Apes</b><extra></extra>",
         "line": {
          "color": "#434a75",
          "width": 5
         },
         "marker": {
          "color": "#434a75",
          "size": 10
         },
         "mode": "lines+markers",
         "name": "Planet of the Apes",
         "type": "scatter",
         "x": [
          1,
          2,
          3,
          4,
          5,
          6,
          7,
          8,
          9
         ],
         "y": [
          8,
          6,
          6.3,
          6.1,
          5.4,
          5.7,
          7.6,
          7.6,
          7.4
         ]
        },
        {
         "hovertemplate": "<b>order: %{x:}<br>averageRating: %{y:}<br>Franchise: Hannibal</b><extra></extra>",
         "line": {
          "color": "#474d79",
          "width": 5
         },
         "marker": {
          "color": "#474d79",
          "size": 10
         },
         "mode": "lines+markers",
         "name": "Hannibal",
         "type": "scatter",
         "x": [
          1,
          2,
          3,
          4
         ],
         "y": [
          8.6,
          6.8,
          7.2,
          6.1
         ]
        },
        {
         "hovertemplate": "<b>order: %{x:}<br>averageRating: %{y:}<br>Franchise: Batman</b><extra></extra>",
         "line": {
          "color": "#4a507d",
          "width": 5
         },
         "marker": {
          "color": "#4a507d",
          "size": 10
         },
         "mode": "lines+markers",
         "name": "Batman",
         "type": "scatter",
         "x": [
          1,
          2,
          3,
          4,
          5,
          6,
          7,
          8,
          9,
          10
         ],
         "y": [
          6.1,
          6,
          6.5,
          7.5,
          7.1,
          5.4,
          8.2,
          9,
          8.4,
          7.9
         ]
        },
        {
         "hovertemplate": "<b>order: %{x:}<br>averageRating: %{y:}<br>Franchise: James Bond</b><extra></extra>",
         "line": {
          "color": "#4c5380",
          "width": 5
         },
         "marker": {
          "color": "#4c5380",
          "size": 10
         },
         "mode": "lines+markers",
         "name": "James Bond",
         "type": "scatter",
         "x": [
          1,
          2,
          3,
          4,
          5,
          6,
          7,
          8,
          9,
          10,
          11,
          12,
          13,
          14,
          15,
          16,
          17,
          18,
          19,
          20,
          21,
          22,
          23,
          24,
          25,
          26
         ],
         "y": [
          7.2,
          7.4,
          7.7,
          6.9,
          6.8,
          5,
          6.8,
          6.5,
          6.7,
          6.7,
          7,
          6.2,
          6.7,
          6.5,
          6.3,
          6.7,
          6.6,
          7.2,
          6.5,
          6.4,
          6.1,
          8,
          6.6,
          7.8,
          6.8,
          7.3
         ]
        },
        {
         "hovertemplate": "<b>order: %{x:}<br>averageRating: %{y:}<br>Franchise: Rocky</b><extra></extra>",
         "line": {
          "color": "#505684",
          "width": 5
         },
         "marker": {
          "color": "#505684",
          "size": 10
         },
         "mode": "lines+markers",
         "name": "Rocky",
         "type": "scatter",
         "x": [
          1,
          2,
          3,
          4,
          5,
          6
         ],
         "y": [
          8.1,
          7.3,
          6.8,
          6.8,
          5.3,
          7.1
         ]
        },
        {
         "hovertemplate": "<b>order: %{x:}<br>averageRating: %{y:}<br>Franchise: Dirty Harry</b><extra></extra>",
         "line": {
          "color": "#535a87",
          "width": 5
         },
         "marker": {
          "color": "#535a87",
          "size": 10
         },
         "mode": "lines+markers",
         "name": "Dirty Harry",
         "type": "scatter",
         "x": [
          1,
          2,
          3,
          4,
          5,
          6,
          7
         ],
         "y": [
          7.3,
          7.7,
          7.2,
          6.7,
          6.6,
          6.2,
          6.5
         ]
        },
        {
         "hovertemplate": "<b>order: %{x:}<br>averageRating: %{y:}<br>Franchise: Alien</b><extra></extra>",
         "line": {
          "color": "#555c8b",
          "width": 5
         },
         "marker": {
          "color": "#555c8b",
          "size": 10
         },
         "mode": "lines+markers",
         "name": "Alien",
         "type": "scatter",
         "x": [
          1,
          2,
          3,
          4,
          5,
          6,
          7,
          8
         ],
         "y": [
          8.5,
          8.4,
          6.4,
          6.2,
          5.6,
          4.6,
          7,
          6.4
         ]
        },
        {
         "hovertemplate": "<b>order: %{x:}<br>averageRating: %{y:}<br>Franchise: Die Hard</b><extra></extra>",
         "line": {
          "color": "#58608e",
          "width": 5
         },
         "marker": {
          "color": "#58608e",
          "size": 10
         },
         "mode": "lines+markers",
         "name": "Die Hard",
         "type": "scatter",
         "x": [
          1,
          2,
          3,
          4,
          5
         ],
         "y": [
          8.2,
          7.1,
          7.6,
          7.1,
          5.2
         ]
        },
        {
         "hovertemplate": "<b>order: %{x:}<br>averageRating: %{y:}<br>Franchise: Jurassic Park</b><extra></extra>",
         "line": {
          "color": "#5c6392",
          "width": 5
         },
         "marker": {
          "color": "#5c6392",
          "size": 10
         },
         "mode": "lines+markers",
         "name": "Jurassic Park",
         "type": "scatter",
         "x": [
          1,
          2,
          3,
          4,
          5,
          6
         ],
         "y": [
          8.2,
          6.5,
          5.9,
          6.9,
          6.1,
          6
         ]
        },
        {
         "hovertemplate": "<b>order: %{x:}<br>averageRating: %{y:}<br>Franchise: Fast and the Furious</b><extra></extra>",
         "line": {
          "color": "#5e6695",
          "width": 5
         },
         "marker": {
          "color": "#5e6695",
          "size": 10
         },
         "mode": "lines+markers",
         "name": "Fast and the Furious",
         "type": "scatter",
         "x": [
          1,
          2,
          3,
          4,
          5,
          6,
          7,
          8,
          9
         ],
         "y": [
          6.8,
          5.9,
          6,
          6.5,
          7.3,
          7,
          7.1,
          6.6,
          5.2
         ]
        },
        {
         "hovertemplate": "<b>order: %{x:}<br>averageRating: %{y:}<br>Franchise: Lethal Weapon</b><extra></extra>",
         "line": {
          "color": "#616999",
          "width": 5
         },
         "marker": {
          "color": "#616999",
          "size": 10
         },
         "mode": "lines+markers",
         "name": "Lethal Weapon",
         "type": "scatter",
         "x": [
          1,
          2,
          3,
          4
         ],
         "y": [
          7.6,
          7.2,
          6.7,
          6.6
         ]
        },
        {
         "hovertemplate": "<b>order: %{x:}<br>averageRating: %{y:}<br>Franchise: Pirates of the Caribbean</b><extra></extra>",
         "line": {
          "color": "#656c9d",
          "width": 5
         },
         "marker": {
          "color": "#656c9d",
          "size": 10
         },
         "mode": "lines+markers",
         "name": "Pirates of the Caribbean",
         "type": "scatter",
         "x": [
          1,
          2,
          3,
          4,
          5
         ],
         "y": [
          8.1,
          7.3,
          7.1,
          6.6,
          6.5
         ]
        },
        {
         "hovertemplate": "<b>order: %{x:}<br>averageRating: %{y:}<br>Franchise: American Pie</b><extra></extra>",
         "line": {
          "color": "#676fa0",
          "width": 5
         },
         "marker": {
          "color": "#676fa0",
          "size": 10
         },
         "mode": "lines+markers",
         "name": "American Pie",
         "type": "scatter",
         "x": [
          1,
          2,
          3,
          4
         ],
         "y": [
          7,
          6.4,
          6.3,
          6.7
         ]
        },
        {
         "hovertemplate": "<b>order: %{x:}<br>averageRating: %{y:}<br>Franchise: Rambo</b><extra></extra>",
         "line": {
          "color": "#6a72a4",
          "width": 5
         },
         "marker": {
          "color": "#6a72a4",
          "size": 10
         },
         "mode": "lines+markers",
         "name": "Rambo",
         "type": "scatter",
         "x": [
          1,
          2,
          3,
          4,
          5
         ],
         "y": [
          7.7,
          6.5,
          5.8,
          7,
          6.1
         ]
        },
        {
         "hovertemplate": "<b>order: %{x:}<br>averageRating: %{y:}<br>Franchise: The Mummy</b><extra></extra>",
         "line": {
          "color": "#6d76a7",
          "width": 5
         },
         "marker": {
          "color": "#6d76a7",
          "size": 10
         },
         "mode": "lines+markers",
         "name": "The Mummy",
         "type": "scatter",
         "x": [
          1,
          2,
          3,
          4
         ],
         "y": [
          7.1,
          6.4,
          5.5,
          5.2
         ]
        },
        {
         "hovertemplate": "<b>order: %{x:}<br>averageRating: %{y:}<br>Franchise: Transformers</b><extra></extra>",
         "line": {
          "color": "#7179ab",
          "width": 5
         },
         "marker": {
          "color": "#7179ab",
          "size": 10
         },
         "mode": "lines+markers",
         "name": "Transformers",
         "type": "scatter",
         "x": [
          1,
          2,
          3,
          4,
          5
         ],
         "y": [
          7,
          5.9,
          6.2,
          5.6,
          5.2
         ]
        },
        {
         "hovertemplate": "<b>order: %{x:}<br>averageRating: %{y:}<br>Franchise: Resident Evil</b><extra></extra>",
         "line": {
          "color": "#737cae",
          "width": 5
         },
         "marker": {
          "color": "#737cae",
          "size": 10
         },
         "mode": "lines+markers",
         "name": "Resident Evil",
         "type": "scatter",
         "x": [
          1,
          2,
          3,
          4,
          5,
          6
         ],
         "y": [
          6.6,
          6.1,
          6.2,
          5.8,
          5.3,
          5.5
         ]
        },
        {
         "hovertemplate": "<b>order: %{x:}<br>averageRating: %{y:}<br>Franchise: Underworld</b><extra></extra>",
         "line": {
          "color": "#767fb2",
          "width": 5
         },
         "marker": {
          "color": "#767fb2",
          "size": 10
         },
         "mode": "lines+markers",
         "name": "Underworld",
         "type": "scatter",
         "x": [
          1,
          2,
          3,
          4,
          5
         ],
         "y": [
          7,
          6.7,
          6.5,
          6.3,
          5.7
         ]
        },
        {
         "hovertemplate": "<b>order: %{x:}<br>averageRating: %{y:}<br>Franchise: Police Academy</b><extra></extra>",
         "line": {
          "color": "#7a82b6",
          "width": 5
         },
         "marker": {
          "color": "#7a82b6",
          "size": 10
         },
         "mode": "lines+markers",
         "name": "Police Academy",
         "type": "scatter",
         "x": [
          1,
          2,
          3,
          4,
          5,
          6,
          7
         ],
         "y": [
          6.7,
          5.7,
          5.3,
          4.9,
          4.5,
          4.3,
          3.4
         ]
        },
        {
         "hovertemplate": "<b>order: %{x:}<br>averageRating: %{y:}<br>Franchise: Back to the Future</b><extra></extra>",
         "line": {
          "color": "#7c85b9",
          "width": 5
         },
         "marker": {
          "color": "#7c85b9",
          "size": 10
         },
         "mode": "lines+markers",
         "name": "Back to the Future",
         "type": "scatter",
         "x": [
          1,
          2,
          3
         ],
         "y": [
          8.5,
          7.8,
          7.4
         ]
        },
        {
         "hovertemplate": "<b>order: %{x:}<br>averageRating: %{y:}<br>Franchise: Saw</b><extra></extra>",
         "line": {
          "color": "#7f88bd",
          "width": 5
         },
         "marker": {
          "color": "#7f88bd",
          "size": 10
         },
         "mode": "lines+markers",
         "name": "Saw",
         "type": "scatter",
         "x": [
          1,
          2,
          3,
          4,
          5,
          6,
          7
         ],
         "y": [
          7.6,
          6.6,
          6.2,
          5.9,
          5.8,
          6,
          5.5
         ]
        },
        {
         "hovertemplate": "<b>order: %{x:}<br>averageRating: %{y:}<br>Franchise: Final Destination</b><extra></extra>",
         "line": {
          "color": "#838cc1",
          "width": 5
         },
         "marker": {
          "color": "#838cc1",
          "size": 10
         },
         "mode": "lines+markers",
         "name": "Final Destination",
         "type": "scatter",
         "x": [
          1,
          2,
          3,
          4,
          5
         ],
         "y": [
          6.7,
          6.2,
          5.8,
          5.1,
          5.9
         ]
        },
        {
         "hovertemplate": "<b>order: %{x:}<br>averageRating: %{y:}<br>Franchise: The Crow</b><extra></extra>",
         "line": {
          "color": "#858ec4",
          "width": 5
         },
         "marker": {
          "color": "#858ec4",
          "size": 10
         },
         "mode": "lines+markers",
         "name": "The Crow",
         "type": "scatter",
         "x": [
          1,
          2,
          3,
          4
         ],
         "y": [
          7.5,
          4.6,
          4.9,
          3
         ]
        },
        {
         "hovertemplate": "<b>order: %{x:}<br>averageRating: %{y:}<br>Franchise: Men in Black</b><extra></extra>",
         "line": {
          "color": "#8892c7",
          "width": 5
         },
         "marker": {
          "color": "#8892c7",
          "size": 10
         },
         "mode": "lines+markers",
         "name": "Men in Black",
         "type": "scatter",
         "x": [
          1,
          2,
          3,
          4
         ],
         "y": [
          7.3,
          6.1,
          6.8,
          5.6
         ]
        },
        {
         "hovertemplate": "<b>order: %{x:}<br>averageRating: %{y:}<br>Franchise: Scary Movie</b><extra></extra>",
         "line": {
          "color": "#8b95cb",
          "width": 5
         },
         "marker": {
          "color": "#8b95cb",
          "size": 10
         },
         "mode": "lines+markers",
         "name": "Scary Movie",
         "type": "scatter",
         "x": [
          1,
          2,
          3,
          4,
          5
         ],
         "y": [
          6.2,
          5.3,
          5.5,
          5.1,
          3.5
         ]
        },
        {
         "hovertemplate": "<b>order: %{x:}<br>averageRating: %{y:}<br>Franchise: The Godfather</b><extra></extra>",
         "line": {
          "color": "#8e98ce",
          "width": 5
         },
         "marker": {
          "color": "#8e98ce",
          "size": 10
         },
         "mode": "lines+markers",
         "name": "The Godfather",
         "type": "scatter",
         "x": [
          1,
          2,
          3
         ],
         "y": [
          9.2,
          9,
          7.6
         ]
        },
        {
         "hovertemplate": "<b>order: %{x:}<br>averageRating: %{y:}<br>Franchise: John Wick</b><extra></extra>",
         "line": {
          "color": "#919bd2",
          "width": 5
         },
         "marker": {
          "color": "#919bd2",
          "size": 10
         },
         "mode": "lines+markers",
         "name": "John Wick",
         "type": "scatter",
         "x": [
          1,
          2,
          3
         ],
         "y": [
          7.4,
          7.4,
          7.4
         ]
        },
        {
         "hovertemplate": "<b>order: %{x:}<br>averageRating: %{y:}<br>Franchise: The Matrix</b><extra></extra>",
         "line": {
          "color": "#949ed6",
          "width": 5
         },
         "marker": {
          "color": "#949ed6",
          "size": 10
         },
         "mode": "lines+markers",
         "name": "The Matrix",
         "type": "scatter",
         "x": [
          1,
          2,
          3,
          4
         ],
         "y": [
          8.7,
          7.2,
          6.7,
          5.7
         ]
        }
       ],
       "layout": {
        "autosize": true,
        "font": {
         "size": 18
        },
        "hoverlabel": {
         "font": {
          "family": "Rockwell",
          "size": 20
         }
        },
        "legend": {
         "title": {
          "text": "<b>Franchise</b>"
         }
        },
        "plot_bgcolor": "white",
        "showlegend": true,
        "template": {
         "data": {
          "bar": [
           {
            "error_x": {
             "color": "#2a3f5f"
            },
            "error_y": {
             "color": "#2a3f5f"
            },
            "marker": {
             "line": {
              "color": "#E5ECF6",
              "width": 0.5
             }
            },
            "type": "bar"
           }
          ],
          "barpolar": [
           {
            "marker": {
             "line": {
              "color": "#E5ECF6",
              "width": 0.5
             }
            },
            "type": "barpolar"
           }
          ],
          "carpet": [
           {
            "aaxis": {
             "endlinecolor": "#2a3f5f",
             "gridcolor": "white",
             "linecolor": "white",
             "minorgridcolor": "white",
             "startlinecolor": "#2a3f5f"
            },
            "baxis": {
             "endlinecolor": "#2a3f5f",
             "gridcolor": "white",
             "linecolor": "white",
             "minorgridcolor": "white",
             "startlinecolor": "#2a3f5f"
            },
            "type": "carpet"
           }
          ],
          "choropleth": [
           {
            "colorbar": {
             "outlinewidth": 0,
             "ticks": ""
            },
            "type": "choropleth"
           }
          ],
          "contour": [
           {
            "colorbar": {
             "outlinewidth": 0,
             "ticks": ""
            },
            "colorscale": [
             [
              0,
              "#0d0887"
             ],
             [
              0.1111111111111111,
              "#46039f"
             ],
             [
              0.2222222222222222,
              "#7201a8"
             ],
             [
              0.3333333333333333,
              "#9c179e"
             ],
             [
              0.4444444444444444,
              "#bd3786"
             ],
             [
              0.5555555555555556,
              "#d8576b"
             ],
             [
              0.6666666666666666,
              "#ed7953"
             ],
             [
              0.7777777777777778,
              "#fb9f3a"
             ],
             [
              0.8888888888888888,
              "#fdca26"
             ],
             [
              1,
              "#f0f921"
             ]
            ],
            "type": "contour"
           }
          ],
          "contourcarpet": [
           {
            "colorbar": {
             "outlinewidth": 0,
             "ticks": ""
            },
            "type": "contourcarpet"
           }
          ],
          "heatmap": [
           {
            "colorbar": {
             "outlinewidth": 0,
             "ticks": ""
            },
            "colorscale": [
             [
              0,
              "#0d0887"
             ],
             [
              0.1111111111111111,
              "#46039f"
             ],
             [
              0.2222222222222222,
              "#7201a8"
             ],
             [
              0.3333333333333333,
              "#9c179e"
             ],
             [
              0.4444444444444444,
              "#bd3786"
             ],
             [
              0.5555555555555556,
              "#d8576b"
             ],
             [
              0.6666666666666666,
              "#ed7953"
             ],
             [
              0.7777777777777778,
              "#fb9f3a"
             ],
             [
              0.8888888888888888,
              "#fdca26"
             ],
             [
              1,
              "#f0f921"
             ]
            ],
            "type": "heatmap"
           }
          ],
          "heatmapgl": [
           {
            "colorbar": {
             "outlinewidth": 0,
             "ticks": ""
            },
            "colorscale": [
             [
              0,
              "#0d0887"
             ],
             [
              0.1111111111111111,
              "#46039f"
             ],
             [
              0.2222222222222222,
              "#7201a8"
             ],
             [
              0.3333333333333333,
              "#9c179e"
             ],
             [
              0.4444444444444444,
              "#bd3786"
             ],
             [
              0.5555555555555556,
              "#d8576b"
             ],
             [
              0.6666666666666666,
              "#ed7953"
             ],
             [
              0.7777777777777778,
              "#fb9f3a"
             ],
             [
              0.8888888888888888,
              "#fdca26"
             ],
             [
              1,
              "#f0f921"
             ]
            ],
            "type": "heatmapgl"
           }
          ],
          "histogram": [
           {
            "marker": {
             "colorbar": {
              "outlinewidth": 0,
              "ticks": ""
             }
            },
            "type": "histogram"
           }
          ],
          "histogram2d": [
           {
            "colorbar": {
             "outlinewidth": 0,
             "ticks": ""
            },
            "colorscale": [
             [
              0,
              "#0d0887"
             ],
             [
              0.1111111111111111,
              "#46039f"
             ],
             [
              0.2222222222222222,
              "#7201a8"
             ],
             [
              0.3333333333333333,
              "#9c179e"
             ],
             [
              0.4444444444444444,
              "#bd3786"
             ],
             [
              0.5555555555555556,
              "#d8576b"
             ],
             [
              0.6666666666666666,
              "#ed7953"
             ],
             [
              0.7777777777777778,
              "#fb9f3a"
             ],
             [
              0.8888888888888888,
              "#fdca26"
             ],
             [
              1,
              "#f0f921"
             ]
            ],
            "type": "histogram2d"
           }
          ],
          "histogram2dcontour": [
           {
            "colorbar": {
             "outlinewidth": 0,
             "ticks": ""
            },
            "colorscale": [
             [
              0,
              "#0d0887"
             ],
             [
              0.1111111111111111,
              "#46039f"
             ],
             [
              0.2222222222222222,
              "#7201a8"
             ],
             [
              0.3333333333333333,
              "#9c179e"
             ],
             [
              0.4444444444444444,
              "#bd3786"
             ],
             [
              0.5555555555555556,
              "#d8576b"
             ],
             [
              0.6666666666666666,
              "#ed7953"
             ],
             [
              0.7777777777777778,
              "#fb9f3a"
             ],
             [
              0.8888888888888888,
              "#fdca26"
             ],
             [
              1,
              "#f0f921"
             ]
            ],
            "type": "histogram2dcontour"
           }
          ],
          "mesh3d": [
           {
            "colorbar": {
             "outlinewidth": 0,
             "ticks": ""
            },
            "type": "mesh3d"
           }
          ],
          "parcoords": [
           {
            "line": {
             "colorbar": {
              "outlinewidth": 0,
              "ticks": ""
             }
            },
            "type": "parcoords"
           }
          ],
          "pie": [
           {
            "automargin": true,
            "type": "pie"
           }
          ],
          "scatter": [
           {
            "marker": {
             "colorbar": {
              "outlinewidth": 0,
              "ticks": ""
             }
            },
            "type": "scatter"
           }
          ],
          "scatter3d": [
           {
            "line": {
             "colorbar": {
              "outlinewidth": 0,
              "ticks": ""
             }
            },
            "marker": {
             "colorbar": {
              "outlinewidth": 0,
              "ticks": ""
             }
            },
            "type": "scatter3d"
           }
          ],
          "scattercarpet": [
           {
            "marker": {
             "colorbar": {
              "outlinewidth": 0,
              "ticks": ""
             }
            },
            "type": "scattercarpet"
           }
          ],
          "scattergeo": [
           {
            "marker": {
             "colorbar": {
              "outlinewidth": 0,
              "ticks": ""
             }
            },
            "type": "scattergeo"
           }
          ],
          "scattergl": [
           {
            "marker": {
             "colorbar": {
              "outlinewidth": 0,
              "ticks": ""
             }
            },
            "type": "scattergl"
           }
          ],
          "scattermapbox": [
           {
            "marker": {
             "colorbar": {
              "outlinewidth": 0,
              "ticks": ""
             }
            },
            "type": "scattermapbox"
           }
          ],
          "scatterpolar": [
           {
            "marker": {
             "colorbar": {
              "outlinewidth": 0,
              "ticks": ""
             }
            },
            "type": "scatterpolar"
           }
          ],
          "scatterpolargl": [
           {
            "marker": {
             "colorbar": {
              "outlinewidth": 0,
              "ticks": ""
             }
            },
            "type": "scatterpolargl"
           }
          ],
          "scatterternary": [
           {
            "marker": {
             "colorbar": {
              "outlinewidth": 0,
              "ticks": ""
             }
            },
            "type": "scatterternary"
           }
          ],
          "surface": [
           {
            "colorbar": {
             "outlinewidth": 0,
             "ticks": ""
            },
            "colorscale": [
             [
              0,
              "#0d0887"
             ],
             [
              0.1111111111111111,
              "#46039f"
             ],
             [
              0.2222222222222222,
              "#7201a8"
             ],
             [
              0.3333333333333333,
              "#9c179e"
             ],
             [
              0.4444444444444444,
              "#bd3786"
             ],
             [
              0.5555555555555556,
              "#d8576b"
             ],
             [
              0.6666666666666666,
              "#ed7953"
             ],
             [
              0.7777777777777778,
              "#fb9f3a"
             ],
             [
              0.8888888888888888,
              "#fdca26"
             ],
             [
              1,
              "#f0f921"
             ]
            ],
            "type": "surface"
           }
          ],
          "table": [
           {
            "cells": {
             "fill": {
              "color": "#EBF0F8"
             },
             "line": {
              "color": "white"
             }
            },
            "header": {
             "fill": {
              "color": "#C8D4E3"
             },
             "line": {
              "color": "white"
             }
            },
            "type": "table"
           }
          ]
         },
         "layout": {
          "annotationdefaults": {
           "arrowcolor": "#2a3f5f",
           "arrowhead": 0,
           "arrowwidth": 1
          },
          "coloraxis": {
           "colorbar": {
            "outlinewidth": 0,
            "ticks": ""
           }
          },
          "colorscale": {
           "diverging": [
            [
             0,
             "#8e0152"
            ],
            [
             0.1,
             "#c51b7d"
            ],
            [
             0.2,
             "#de77ae"
            ],
            [
             0.3,
             "#f1b6da"
            ],
            [
             0.4,
             "#fde0ef"
            ],
            [
             0.5,
             "#f7f7f7"
            ],
            [
             0.6,
             "#e6f5d0"
            ],
            [
             0.7,
             "#b8e186"
            ],
            [
             0.8,
             "#7fbc41"
            ],
            [
             0.9,
             "#4d9221"
            ],
            [
             1,
             "#276419"
            ]
           ],
           "sequential": [
            [
             0,
             "#0d0887"
            ],
            [
             0.1111111111111111,
             "#46039f"
            ],
            [
             0.2222222222222222,
             "#7201a8"
            ],
            [
             0.3333333333333333,
             "#9c179e"
            ],
            [
             0.4444444444444444,
             "#bd3786"
            ],
            [
             0.5555555555555556,
             "#d8576b"
            ],
            [
             0.6666666666666666,
             "#ed7953"
            ],
            [
             0.7777777777777778,
             "#fb9f3a"
            ],
            [
             0.8888888888888888,
             "#fdca26"
            ],
            [
             1,
             "#f0f921"
            ]
           ],
           "sequentialminus": [
            [
             0,
             "#0d0887"
            ],
            [
             0.1111111111111111,
             "#46039f"
            ],
            [
             0.2222222222222222,
             "#7201a8"
            ],
            [
             0.3333333333333333,
             "#9c179e"
            ],
            [
             0.4444444444444444,
             "#bd3786"
            ],
            [
             0.5555555555555556,
             "#d8576b"
            ],
            [
             0.6666666666666666,
             "#ed7953"
            ],
            [
             0.7777777777777778,
             "#fb9f3a"
            ],
            [
             0.8888888888888888,
             "#fdca26"
            ],
            [
             1,
             "#f0f921"
            ]
           ]
          },
          "colorway": [
           "#636efa",
           "#EF553B",
           "#00cc96",
           "#ab63fa",
           "#FFA15A",
           "#19d3f3",
           "#FF6692",
           "#B6E880",
           "#FF97FF",
           "#FECB52"
          ],
          "font": {
           "color": "#2a3f5f"
          },
          "geo": {
           "bgcolor": "white",
           "lakecolor": "white",
           "landcolor": "#E5ECF6",
           "showlakes": true,
           "showland": true,
           "subunitcolor": "white"
          },
          "hoverlabel": {
           "align": "left"
          },
          "hovermode": "closest",
          "mapbox": {
           "style": "light"
          },
          "paper_bgcolor": "white",
          "plot_bgcolor": "#E5ECF6",
          "polar": {
           "angularaxis": {
            "gridcolor": "white",
            "linecolor": "white",
            "ticks": ""
           },
           "bgcolor": "#E5ECF6",
           "radialaxis": {
            "gridcolor": "white",
            "linecolor": "white",
            "ticks": ""
           }
          },
          "scene": {
           "xaxis": {
            "backgroundcolor": "#E5ECF6",
            "gridcolor": "white",
            "gridwidth": 2,
            "linecolor": "white",
            "showbackground": true,
            "ticks": "",
            "zerolinecolor": "white"
           },
           "yaxis": {
            "backgroundcolor": "#E5ECF6",
            "gridcolor": "white",
            "gridwidth": 2,
            "linecolor": "white",
            "showbackground": true,
            "ticks": "",
            "zerolinecolor": "white"
           },
           "zaxis": {
            "backgroundcolor": "#E5ECF6",
            "gridcolor": "white",
            "gridwidth": 2,
            "linecolor": "white",
            "showbackground": true,
            "ticks": "",
            "zerolinecolor": "white"
           }
          },
          "shapedefaults": {
           "line": {
            "color": "#2a3f5f"
           }
          },
          "ternary": {
           "aaxis": {
            "gridcolor": "white",
            "linecolor": "white",
            "ticks": ""
           },
           "baxis": {
            "gridcolor": "white",
            "linecolor": "white",
            "ticks": ""
           },
           "bgcolor": "#E5ECF6",
           "caxis": {
            "gridcolor": "white",
            "linecolor": "white",
            "ticks": ""
           }
          },
          "title": {
           "x": 0.05
          },
          "xaxis": {
           "automargin": true,
           "gridcolor": "white",
           "linecolor": "white",
           "ticks": "",
           "title": {
            "standoff": 15
           },
           "zerolinecolor": "white",
           "zerolinewidth": 2
          },
          "yaxis": {
           "automargin": true,
           "gridcolor": "white",
           "linecolor": "white",
           "ticks": "",
           "title": {
            "standoff": 15
           },
           "zerolinecolor": "white",
           "zerolinewidth": 2
          }
         }
        },
        "xaxis": {
         "autorange": true,
         "range": [
          -0.5904341769212906,
          27.590434176921292
         ],
         "title": {
          "text": "<b>order</b>"
         },
         "type": "linear"
        },
        "yaxis": {
         "autorange": true,
         "range": [
          2.468763557483731,
          9.731236442516268
         ],
         "title": {
          "text": "<b>averageRating</b>"
         },
         "type": "linear"
        }
       }
      },
      "image/png": "[encoded data removed]",
      "text/html": [
       "<div>                            <div id=\"6070c21c-ef17-4dc8-bf98-0b4d439df9c2\" class=\"plotly-graph-div\" style=\"height:525px; width:100%;\"></div>            <script type=\"text/javascript\">                require([\"plotly\"], function(Plotly) {                    window.PLOTLYENV=window.PLOTLYENV || {};                                    if (document.getElementById(\"6070c21c-ef17-4dc8-bf98-0b4d439df9c2\")) {                    Plotly.newPlot(                        \"6070c21c-ef17-4dc8-bf98-0b4d439df9c2\",                        [{\"hovertemplate\": \"<b>order: %{x:}<br>averageRating: %{y:}<br>Franchise: Mad Max</b><extra></extra>\", \"line\": {\"color\": \"#111539\", \"width\": 5}, \"marker\": {\"color\": \"#111539\", \"size\": 10}, \"mode\": \"lines+markers\", \"name\": \"Mad Max\", \"type\": \"scatter\", \"x\": [1, 2, 3, 4], \"y\": [6.8, 7.6, 6.2, 8.1]}, {\"hovertemplate\": \"<b>order: %{x:}<br>averageRating: %{y:}<br>Franchise: The Lord of the Rings</b><extra></extra>\", \"line\": {\"color\": \"#14183c\", \"width\": 5}, \"marker\": {\"color\": \"#14183c\", \"size\": 10}, \"mode\": \"lines+markers\", \"name\": \"The Lord of the Rings\", \"type\": \"scatter\", \"x\": [1, 2, 3], \"y\": [8.8, 8.8, 9.0]}, {\"hovertemplate\": \"<b>order: %{x:}<br>averageRating: %{y:}<br>Franchise: The Hobbit</b><extra></extra>\", \"line\": {\"color\": \"#171b40\", \"width\": 5}, \"marker\": {\"color\": \"#171b40\", \"size\": 10}, \"mode\": \"lines+markers\", \"name\": \"The Hobbit\", \"type\": \"scatter\", \"x\": [1, 2, 3], \"y\": [7.8, 7.8, 7.4]}, {\"hovertemplate\": \"<b>order: %{x:}<br>averageRating: %{y:}<br>Franchise: Harry Potter</b><extra></extra>\", \"line\": {\"color\": \"#1a1e44\", \"width\": 5}, \"marker\": {\"color\": \"#1a1e44\", \"size\": 10}, \"mode\": \"lines+markers\", \"name\": \"Harry Potter\", \"type\": \"scatter\", \"x\": [1, 2, 3, 4, 5, 6, 7, 8], \"y\": [7.6, 7.4, 7.9, 7.7, 7.5, 7.6, 7.7, 8.1]}, {\"hovertemplate\": \"<b>order: %{x:}<br>averageRating: %{y:}<br>Franchise: Fantastic Beasts</b><extra></extra>\", \"line\": {\"color\": \"#1d2147\", \"width\": 5}, \"marker\": {\"color\": \"#1d2147\", \"size\": 10}, \"mode\": \"lines+markers\", \"name\": \"Fantastic Beasts\", \"type\": \"scatter\", \"x\": [1, 2, 3], \"y\": [7.2, 6.5, 6.2]}, {\"hovertemplate\": \"<b>order: %{x:}<br>averageRating: %{y:}<br>Franchise: Mission: Impossible</b><extra></extra>\", \"line\": {\"color\": \"#20244b\", \"width\": 5}, \"marker\": {\"color\": \"#20244b\", \"size\": 10}, \"mode\": \"lines+markers\", \"name\": \"Mission: Impossible\", \"type\": \"scatter\", \"x\": [1, 2, 3, 4, 5, 6], \"y\": [7.1, 6.1, 6.9, 7.4, 7.4, 7.7]}, {\"hovertemplate\": \"<b>order: %{x:}<br>averageRating: %{y:}<br>Franchise: Star Wars</b><extra></extra>\", \"line\": {\"color\": \"#23284e\", \"width\": 5}, \"marker\": {\"color\": \"#23284e\", \"size\": 10}, \"mode\": \"lines+markers\", \"name\": \"Star Wars\", \"type\": \"scatter\", \"x\": [1, 2, 3, 4, 5, 6, 7, 8, 9, 10, 11], \"y\": [8.6, 8.7, 8.3, 6.5, 6.6, 7.6, 7.8, 7.8, 6.9, 6.9, 6.5]}, {\"hovertemplate\": \"<b>order: %{x:}<br>averageRating: %{y:}<br>Franchise: Bourne</b><extra></extra>\", \"line\": {\"color\": \"#252a51\", \"width\": 5}, \"marker\": {\"color\": \"#252a51\", \"size\": 10}, \"mode\": \"lines+markers\", \"name\": \"Bourne\", \"type\": \"scatter\", \"x\": [1, 2, 3, 4, 5], \"y\": [7.9, 7.7, 8.0, 6.6, 6.6]}, {\"hovertemplate\": \"<b>order: %{x:}<br>averageRating: %{y:}<br>Franchise: Millennium</b><extra></extra>\", \"line\": {\"color\": \"#292e55\", \"width\": 5}, \"marker\": {\"color\": \"#292e55\", \"size\": 10}, \"mode\": \"lines+markers\", \"name\": \"Millennium\", \"type\": \"scatter\", \"x\": [1, 2, 3], \"y\": [7.1, 7.3, 7.8]}, {\"hovertemplate\": \"<b>order: %{x:}<br>averageRating: %{y:}<br>Franchise: The Hunger Games</b><extra></extra>\", \"line\": {\"color\": \"#2c3159\", \"width\": 5}, \"marker\": {\"color\": \"#2c3159\", \"size\": 10}, \"mode\": \"lines+markers\", \"name\": \"The Hunger Games\", \"type\": \"scatter\", \"x\": [1, 2, 3, 4], \"y\": [7.2, 7.5, 6.6, 6.5]}, {\"hovertemplate\": \"<b>order: %{x:}<br>averageRating: %{y:}<br>Franchise: Indiana Jones</b><extra></extra>\", \"line\": {\"color\": \"#2e345c\", \"width\": 5}, \"marker\": {\"color\": \"#2e345c\", \"size\": 10}, \"mode\": \"lines+markers\", \"name\": \"Indiana Jones\", \"type\": \"scatter\", \"x\": [1, 2, 3, 4], \"y\": [8.4, 7.5, 8.2, 6.1]}, {\"hovertemplate\": \"<b>order: %{x:}<br>averageRating: %{y:}<br>Franchise: Spider-Man</b><extra></extra>\", \"line\": {\"color\": \"#323760\", \"width\": 5}, \"marker\": {\"color\": \"#323760\", \"size\": 10}, \"mode\": \"lines+markers\", \"name\": \"Spider-Man\", \"type\": \"scatter\", \"x\": [1, 2, 3, 4, 5, 6], \"y\": [7.4, 7.4, 6.2, 6.9, 6.6, 7.4]}, {\"hovertemplate\": \"<b>order: %{x:}<br>averageRating: %{y:}<br>Franchise: The Muppets</b><extra></extra>\", \"line\": {\"color\": \"#353a64\", \"width\": 5}, \"marker\": {\"color\": \"#353a64\", \"size\": 10}, \"mode\": \"lines+markers\", \"name\": \"The Muppets\", \"type\": \"scatter\", \"x\": [1, 2, 3, 4, 5, 6, 7, 8], \"y\": [7.6, 7.1, 6.8, 7.7, 6.9, 6.2, 7.1, 6.4]}, {\"hovertemplate\": \"<b>order: %{x:}<br>averageRating: %{y:}<br>Franchise: Ocean's Eleven</b><extra></extra>\", \"line\": {\"color\": \"#373d67\", \"width\": 5}, \"marker\": {\"color\": \"#373d67\", \"size\": 10}, \"mode\": \"lines+markers\", \"name\": \"Ocean's Eleven\", \"type\": \"scatter\", \"x\": [1, 2, 3, 4, 5], \"y\": [6.5, 7.7, 6.4, 6.9, 6.8]}, {\"hovertemplate\": \"<b>order: %{x:}<br>averageRating: %{y:}<br>Franchise: X-Men</b><extra></extra>\", \"line\": {\"color\": \"#3b406b\", \"width\": 5}, \"marker\": {\"color\": \"#3b406b\", \"size\": 10}, \"mode\": \"lines+markers\", \"name\": \"X-Men\", \"type\": \"scatter\", \"x\": [1, 2, 3, 4, 5, 6, 7, 8, 9, 10, 11], \"y\": [7.3, 7.4, 6.6, 6.5, 7.7, 6.7, 7.9, 8.0, 6.9, 8.1, 7.7]}, {\"hovertemplate\": \"<b>order: %{x:}<br>averageRating: %{y:}<br>Franchise: Star Trek</b><extra></extra>\", \"line\": {\"color\": \"#3e446e\", \"width\": 5}, \"marker\": {\"color\": \"#3e446e\", \"size\": 10}, \"mode\": \"lines+markers\", \"name\": \"Star Trek\", \"type\": \"scatter\", \"x\": [1, 2, 3, 4, 5, 6, 7, 8, 9, 10, 11, 12], \"y\": [6.4, 7.7, 6.6, 7.3, 5.4, 7.2, 7.6, 6.4, 6.4, 7.9, 7.7, 7.0]}, {\"hovertemplate\": \"<b>order: %{x:}<br>averageRating: %{y:}<br>Franchise: Terminator</b><extra></extra>\", \"line\": {\"color\": \"#414772\", \"width\": 5}, \"marker\": {\"color\": \"#414772\", \"size\": 10}, \"mode\": \"lines+markers\", \"name\": \"Terminator\", \"type\": \"scatter\", \"x\": [1, 2, 3, 4, 5, 6], \"y\": [8.1, 8.6, 6.3, 6.5, 6.3, 6.2]}, {\"hovertemplate\": \"<b>order: %{x:}<br>averageRating: %{y:}<br>Franchise: Planet of the Apes</b><extra></extra>\", \"line\": {\"color\": \"#434a75\", \"width\": 5}, \"marker\": {\"color\": \"#434a75\", \"size\": 10}, \"mode\": \"lines+markers\", \"name\": \"Planet of the Apes\", \"type\": \"scatter\", \"x\": [1, 2, 3, 4, 5, 6, 7, 8, 9], \"y\": [8.0, 6.0, 6.3, 6.1, 5.4, 5.7, 7.6, 7.6, 7.4]}, {\"hovertemplate\": \"<b>order: %{x:}<br>averageRating: %{y:}<br>Franchise: Hannibal</b><extra></extra>\", \"line\": {\"color\": \"#474d79\", \"width\": 5}, \"marker\": {\"color\": \"#474d79\", \"size\": 10}, \"mode\": \"lines+markers\", \"name\": \"Hannibal\", \"type\": \"scatter\", \"x\": [1, 2, 3, 4], \"y\": [8.6, 6.8, 7.2, 6.1]}, {\"hovertemplate\": \"<b>order: %{x:}<br>averageRating: %{y:}<br>Franchise: Batman</b><extra></extra>\", \"line\": {\"color\": \"#4a507d\", \"width\": 5}, \"marker\": {\"color\": \"#4a507d\", \"size\": 10}, \"mode\": \"lines+markers\", \"name\": \"Batman\", \"type\": \"scatter\", \"x\": [1, 2, 3, 4, 5, 6, 7, 8, 9, 10], \"y\": [6.1, 6.0, 6.5, 7.5, 7.1, 5.4, 8.2, 9.0, 8.4, 7.9]}, {\"hovertemplate\": \"<b>order: %{x:}<br>averageRating: %{y:}<br>Franchise: James Bond</b><extra></extra>\", \"line\": {\"color\": \"#4c5380\", \"width\": 5}, \"marker\": {\"color\": \"#4c5380\", \"size\": 10}, \"mode\": \"lines+markers\", \"name\": \"James Bond\", \"type\": \"scatter\", \"x\": [1, 2, 3, 4, 5, 6, 7, 8, 9, 10, 11, 12, 13, 14, 15, 16, 17, 18, 19, 20, 21, 22, 23, 24, 25, 26], \"y\": [7.2, 7.4, 7.7, 6.9, 6.8, 5.0, 6.8, 6.5, 6.7, 6.7, 7.0, 6.2, 6.7, 6.5, 6.3, 6.7, 6.6, 7.2, 6.5, 6.4, 6.1, 8.0, 6.6, 7.8, 6.8, 7.3]}, {\"hovertemplate\": \"<b>order: %{x:}<br>averageRating: %{y:}<br>Franchise: Rocky</b><extra></extra>\", \"line\": {\"color\": \"#505684\", \"width\": 5}, \"marker\": {\"color\": \"#505684\", \"size\": 10}, \"mode\": \"lines+markers\", \"name\": \"Rocky\", \"type\": \"scatter\", \"x\": [1, 2, 3, 4, 5, 6], \"y\": [8.1, 7.3, 6.8, 6.8, 5.3, 7.1]}, {\"hovertemplate\": \"<b>order: %{x:}<br>averageRating: %{y:}<br>Franchise: Dirty Harry</b><extra></extra>\", \"line\": {\"color\": \"#535a87\", \"width\": 5}, \"marker\": {\"color\": \"#535a87\", \"size\": 10}, \"mode\": \"lines+markers\", \"name\": \"Dirty Harry\", \"type\": \"scatter\", \"x\": [1, 2, 3, 4, 5, 6, 7], \"y\": [7.3, 7.7, 7.2, 6.7, 6.6, 6.2, 6.5]}, {\"hovertemplate\": \"<b>order: %{x:}<br>averageRating: %{y:}<br>Franchise: Alien</b><extra></extra>\", \"line\": {\"color\": \"#555c8b\", \"width\": 5}, \"marker\": {\"color\": \"#555c8b\", \"size\": 10}, \"mode\": \"lines+markers\", \"name\": \"Alien\", \"type\": \"scatter\", \"x\": [1, 2, 3, 4, 5, 6, 7, 8], \"y\": [8.5, 8.4, 6.4, 6.2, 5.6, 4.6, 7.0, 6.4]}, {\"hovertemplate\": \"<b>order: %{x:}<br>averageRating: %{y:}<br>Franchise: Die Hard</b><extra></extra>\", \"line\": {\"color\": \"#58608e\", \"width\": 5}, \"marker\": {\"color\": \"#58608e\", \"size\": 10}, \"mode\": \"lines+markers\", \"name\": \"Die Hard\", \"type\": \"scatter\", \"x\": [1, 2, 3, 4, 5], \"y\": [8.2, 7.1, 7.6, 7.1, 5.2]}, {\"hovertemplate\": \"<b>order: %{x:}<br>averageRating: %{y:}<br>Franchise: Jurassic Park</b><extra></extra>\", \"line\": {\"color\": \"#5c6392\", \"width\": 5}, \"marker\": {\"color\": \"#5c6392\", \"size\": 10}, \"mode\": \"lines+markers\", \"name\": \"Jurassic Park\", \"type\": \"scatter\", \"x\": [1, 2, 3, 4, 5, 6], \"y\": [8.2, 6.5, 5.9, 6.9, 6.1, 6.0]}, {\"hovertemplate\": \"<b>order: %{x:}<br>averageRating: %{y:}<br>Franchise: Fast and the Furious</b><extra></extra>\", \"line\": {\"color\": \"#5e6695\", \"width\": 5}, \"marker\": {\"color\": \"#5e6695\", \"size\": 10}, \"mode\": \"lines+markers\", \"name\": \"Fast and the Furious\", \"type\": \"scatter\", \"x\": [1, 2, 3, 4, 5, 6, 7, 8, 9], \"y\": [6.8, 5.9, 6.0, 6.5, 7.3, 7.0, 7.1, 6.6, 5.2]}, {\"hovertemplate\": \"<b>order: %{x:}<br>averageRating: %{y:}<br>Franchise: Lethal Weapon</b><extra></extra>\", \"line\": {\"color\": \"#616999\", \"width\": 5}, \"marker\": {\"color\": \"#616999\", \"size\": 10}, \"mode\": \"lines+markers\", \"name\": \"Lethal Weapon\", \"type\": \"scatter\", \"x\": [1, 2, 3, 4], \"y\": [7.6, 7.2, 6.7, 6.6]}, {\"hovertemplate\": \"<b>order: %{x:}<br>averageRating: %{y:}<br>Franchise: Pirates of the Caribbean</b><extra></extra>\", \"line\": {\"color\": \"#656c9d\", \"width\": 5}, \"marker\": {\"color\": \"#656c9d\", \"size\": 10}, \"mode\": \"lines+markers\", \"name\": \"Pirates of the Caribbean\", \"type\": \"scatter\", \"x\": [1, 2, 3, 4, 5], \"y\": [8.1, 7.3, 7.1, 6.6, 6.5]}, {\"hovertemplate\": \"<b>order: %{x:}<br>averageRating: %{y:}<br>Franchise: American Pie</b><extra></extra>\", \"line\": {\"color\": \"#676fa0\", \"width\": 5}, \"marker\": {\"color\": \"#676fa0\", \"size\": 10}, \"mode\": \"lines+markers\", \"name\": \"American Pie\", \"type\": \"scatter\", \"x\": [1, 2, 3, 4], \"y\": [7.0, 6.4, 6.3, 6.7]}, {\"hovertemplate\": \"<b>order: %{x:}<br>averageRating: %{y:}<br>Franchise: Rambo</b><extra></extra>\", \"line\": {\"color\": \"#6a72a4\", \"width\": 5}, \"marker\": {\"color\": \"#6a72a4\", \"size\": 10}, \"mode\": \"lines+markers\", \"name\": \"Rambo\", \"type\": \"scatter\", \"x\": [1, 2, 3, 4, 5], \"y\": [7.7, 6.5, 5.8, 7.0, 6.1]}, {\"hovertemplate\": \"<b>order: %{x:}<br>averageRating: %{y:}<br>Franchise: The Mummy</b><extra></extra>\", \"line\": {\"color\": \"#6d76a7\", \"width\": 5}, \"marker\": {\"color\": \"#6d76a7\", \"size\": 10}, \"mode\": \"lines+markers\", \"name\": \"The Mummy\", \"type\": \"scatter\", \"x\": [1, 2, 3, 4], \"y\": [7.1, 6.4, 5.5, 5.2]}, {\"hovertemplate\": \"<b>order: %{x:}<br>averageRating: %{y:}<br>Franchise: Transformers</b><extra></extra>\", \"line\": {\"color\": \"#7179ab\", \"width\": 5}, \"marker\": {\"color\": \"#7179ab\", \"size\": 10}, \"mode\": \"lines+markers\", \"name\": \"Transformers\", \"type\": \"scatter\", \"x\": [1, 2, 3, 4, 5], \"y\": [7.0, 5.9, 6.2, 5.6, 5.2]}, {\"hovertemplate\": \"<b>order: %{x:}<br>averageRating: %{y:}<br>Franchise: Resident Evil</b><extra></extra>\", \"line\": {\"color\": \"#737cae\", \"width\": 5}, \"marker\": {\"color\": \"#737cae\", \"size\": 10}, \"mode\": \"lines+markers\", \"name\": \"Resident Evil\", \"type\": \"scatter\", \"x\": [1, 2, 3, 4, 5, 6], \"y\": [6.6, 6.1, 6.2, 5.8, 5.3, 5.5]}, {\"hovertemplate\": \"<b>order: %{x:}<br>averageRating: %{y:}<br>Franchise: Underworld</b><extra></extra>\", \"line\": {\"color\": \"#767fb2\", \"width\": 5}, \"marker\": {\"color\": \"#767fb2\", \"size\": 10}, \"mode\": \"lines+markers\", \"name\": \"Underworld\", \"type\": \"scatter\", \"x\": [1, 2, 3, 4, 5], \"y\": [7.0, 6.7, 6.5, 6.3, 5.7]}, {\"hovertemplate\": \"<b>order: %{x:}<br>averageRating: %{y:}<br>Franchise: Police Academy</b><extra></extra>\", \"line\": {\"color\": \"#7a82b6\", \"width\": 5}, \"marker\": {\"color\": \"#7a82b6\", \"size\": 10}, \"mode\": \"lines+markers\", \"name\": \"Police Academy\", \"type\": \"scatter\", \"x\": [1, 2, 3, 4, 5, 6, 7], \"y\": [6.7, 5.7, 5.3, 4.9, 4.5, 4.3, 3.4]}, {\"hovertemplate\": \"<b>order: %{x:}<br>averageRating: %{y:}<br>Franchise: Back to the Future</b><extra></extra>\", \"line\": {\"color\": \"#7c85b9\", \"width\": 5}, \"marker\": {\"color\": \"#7c85b9\", \"size\": 10}, \"mode\": \"lines+markers\", \"name\": \"Back to the Future\", \"type\": \"scatter\", \"x\": [1, 2, 3], \"y\": [8.5, 7.8, 7.4]}, {\"hovertemplate\": \"<b>order: %{x:}<br>averageRating: %{y:}<br>Franchise: Saw</b><extra></extra>\", \"line\": {\"color\": \"#7f88bd\", \"width\": 5}, \"marker\": {\"color\": \"#7f88bd\", \"size\": 10}, \"mode\": \"lines+markers\", \"name\": \"Saw\", \"type\": \"scatter\", \"x\": [1, 2, 3, 4, 5, 6, 7], \"y\": [7.6, 6.6, 6.2, 5.9, 5.8, 6.0, 5.5]}, {\"hovertemplate\": \"<b>order: %{x:}<br>averageRating: %{y:}<br>Franchise: Final Destination</b><extra></extra>\", \"line\": {\"color\": \"#838cc1\", \"width\": 5}, \"marker\": {\"color\": \"#838cc1\", \"size\": 10}, \"mode\": \"lines+markers\", \"name\": \"Final Destination\", \"type\": \"scatter\", \"x\": [1, 2, 3, 4, 5], \"y\": [6.7, 6.2, 5.8, 5.1, 5.9]}, {\"hovertemplate\": \"<b>order: %{x:}<br>averageRating: %{y:}<br>Franchise: The Crow</b><extra></extra>\", \"line\": {\"color\": \"#858ec4\", \"width\": 5}, \"marker\": {\"color\": \"#858ec4\", \"size\": 10}, \"mode\": \"lines+markers\", \"name\": \"The Crow\", \"type\": \"scatter\", \"x\": [1, 2, 3, 4], \"y\": [7.5, 4.6, 4.9, 3.0]}, {\"hovertemplate\": \"<b>order: %{x:}<br>averageRating: %{y:}<br>Franchise: Men in Black</b><extra></extra>\", \"line\": {\"color\": \"#8892c7\", \"width\": 5}, \"marker\": {\"color\": \"#8892c7\", \"size\": 10}, \"mode\": \"lines+markers\", \"name\": \"Men in Black\", \"type\": \"scatter\", \"x\": [1, 2, 3, 4], \"y\": [7.3, 6.1, 6.8, 5.6]}, {\"hovertemplate\": \"<b>order: %{x:}<br>averageRating: %{y:}<br>Franchise: Scary Movie</b><extra></extra>\", \"line\": {\"color\": \"#8b95cb\", \"width\": 5}, \"marker\": {\"color\": \"#8b95cb\", \"size\": 10}, \"mode\": \"lines+markers\", \"name\": \"Scary Movie\", \"type\": \"scatter\", \"x\": [1, 2, 3, 4, 5], \"y\": [6.2, 5.3, 5.5, 5.1, 3.5]}, {\"hovertemplate\": \"<b>order: %{x:}<br>averageRating: %{y:}<br>Franchise: The Godfather</b><extra></extra>\", \"line\": {\"color\": \"#8e98ce\", \"width\": 5}, \"marker\": {\"color\": \"#8e98ce\", \"size\": 10}, \"mode\": \"lines+markers\", \"name\": \"The Godfather\", \"type\": \"scatter\", \"x\": [1, 2, 3], \"y\": [9.2, 9.0, 7.6]}, {\"hovertemplate\": \"<b>order: %{x:}<br>averageRating: %{y:}<br>Franchise: John Wick</b><extra></extra>\", \"line\": {\"color\": \"#919bd2\", \"width\": 5}, \"marker\": {\"color\": \"#919bd2\", \"size\": 10}, \"mode\": \"lines+markers\", \"name\": \"John Wick\", \"type\": \"scatter\", \"x\": [1, 2, 3], \"y\": [7.4, 7.4, 7.4]}, {\"hovertemplate\": \"<b>order: %{x:}<br>averageRating: %{y:}<br>Franchise: The Matrix</b><extra></extra>\", \"line\": {\"color\": \"#949ed6\", \"width\": 5}, \"marker\": {\"color\": \"#949ed6\", \"size\": 10}, \"mode\": \"lines+markers\", \"name\": \"The Matrix\", \"type\": \"scatter\", \"x\": [1, 2, 3, 4], \"y\": [8.7, 7.2, 6.7, 5.7]}],                        {\"font\": {\"size\": 18}, \"hoverlabel\": {\"font\": {\"family\": \"Rockwell\", \"size\": 20}}, \"legend\": {\"title\": {\"text\": \"<b>Franchise</b>\"}}, \"plot_bgcolor\": \"white\", \"showlegend\": true, \"template\": {\"data\": {\"bar\": [{\"error_x\": {\"color\": \"#2a3f5f\"}, \"error_y\": {\"color\": \"#2a3f5f\"}, \"marker\": {\"line\": {\"color\": \"#E5ECF6\", \"width\": 0.5}}, \"type\": \"bar\"}], \"barpolar\": [{\"marker\": {\"line\": {\"color\": \"#E5ECF6\", \"width\": 0.5}}, \"type\": \"barpolar\"}], \"carpet\": [{\"aaxis\": {\"endlinecolor\": \"#2a3f5f\", \"gridcolor\": \"white\", \"linecolor\": \"white\", \"minorgridcolor\": \"white\", \"startlinecolor\": \"#2a3f5f\"}, \"baxis\": {\"endlinecolor\": \"#2a3f5f\", \"gridcolor\": \"white\", \"linecolor\": \"white\", \"minorgridcolor\": \"white\", \"startlinecolor\": \"#2a3f5f\"}, \"type\": \"carpet\"}], \"choropleth\": [{\"colorbar\": {\"outlinewidth\": 0, \"ticks\": \"\"}, \"type\": \"choropleth\"}], \"contour\": [{\"colorbar\": {\"outlinewidth\": 0, \"ticks\": \"\"}, \"colorscale\": [[0.0, \"#0d0887\"], [0.1111111111111111, \"#46039f\"], [0.2222222222222222, \"#7201a8\"], [0.3333333333333333, \"#9c179e\"], [0.4444444444444444, \"#bd3786\"], [0.5555555555555556, \"#d8576b\"], [0.6666666666666666, \"#ed7953\"], [0.7777777777777778, \"#fb9f3a\"], [0.8888888888888888, \"#fdca26\"], [1.0, \"#f0f921\"]], \"type\": \"contour\"}], \"contourcarpet\": [{\"colorbar\": {\"outlinewidth\": 0, \"ticks\": \"\"}, \"type\": \"contourcarpet\"}], \"heatmap\": [{\"colorbar\": {\"outlinewidth\": 0, \"ticks\": \"\"}, \"colorscale\": [[0.0, \"#0d0887\"], [0.1111111111111111, \"#46039f\"], [0.2222222222222222, \"#7201a8\"], [0.3333333333333333, \"#9c179e\"], [0.4444444444444444, \"#bd3786\"], [0.5555555555555556, \"#d8576b\"], [0.6666666666666666, \"#ed7953\"], [0.7777777777777778, \"#fb9f3a\"], [0.8888888888888888, \"#fdca26\"], [1.0, \"#f0f921\"]], \"type\": \"heatmap\"}], \"heatmapgl\": [{\"colorbar\": {\"outlinewidth\": 0, \"ticks\": \"\"}, \"colorscale\": [[0.0, \"#0d0887\"], [0.1111111111111111, \"#46039f\"], [0.2222222222222222, \"#7201a8\"], [0.3333333333333333, \"#9c179e\"], [0.4444444444444444, \"#bd3786\"], [0.5555555555555556, \"#d8576b\"], [0.6666666666666666, \"#ed7953\"], [0.7777777777777778, \"#fb9f3a\"], [0.8888888888888888, \"#fdca26\"], [1.0, \"#f0f921\"]], \"type\": \"heatmapgl\"}], \"histogram\": [{\"marker\": {\"colorbar\": {\"outlinewidth\": 0, \"ticks\": \"\"}}, \"type\": \"histogram\"}], \"histogram2d\": [{\"colorbar\": {\"outlinewidth\": 0, \"ticks\": \"\"}, \"colorscale\": [[0.0, \"#0d0887\"], [0.1111111111111111, \"#46039f\"], [0.2222222222222222, \"#7201a8\"], [0.3333333333333333, \"#9c179e\"], [0.4444444444444444, \"#bd3786\"], [0.5555555555555556, \"#d8576b\"], [0.6666666666666666, \"#ed7953\"], [0.7777777777777778, \"#fb9f3a\"], [0.8888888888888888, \"#fdca26\"], [1.0, \"#f0f921\"]], \"type\": \"histogram2d\"}], \"histogram2dcontour\": [{\"colorbar\": {\"outlinewidth\": 0, \"ticks\": \"\"}, \"colorscale\": [[0.0, \"#0d0887\"], [0.1111111111111111, \"#46039f\"], [0.2222222222222222, \"#7201a8\"], [0.3333333333333333, \"#9c179e\"], [0.4444444444444444, \"#bd3786\"], [0.5555555555555556, \"#d8576b\"], [0.6666666666666666, \"#ed7953\"], [0.7777777777777778, \"#fb9f3a\"], [0.8888888888888888, \"#fdca26\"], [1.0, \"#f0f921\"]], \"type\": \"histogram2dcontour\"}], \"mesh3d\": [{\"colorbar\": {\"outlinewidth\": 0, \"ticks\": \"\"}, \"type\": \"mesh3d\"}], \"parcoords\": [{\"line\": {\"colorbar\": {\"outlinewidth\": 0, \"ticks\": \"\"}}, \"type\": \"parcoords\"}], \"pie\": [{\"automargin\": true, \"type\": \"pie\"}], \"scatter\": [{\"marker\": {\"colorbar\": {\"outlinewidth\": 0, \"ticks\": \"\"}}, \"type\": \"scatter\"}], \"scatter3d\": [{\"line\": {\"colorbar\": {\"outlinewidth\": 0, \"ticks\": \"\"}}, \"marker\": {\"colorbar\": {\"outlinewidth\": 0, \"ticks\": \"\"}}, \"type\": \"scatter3d\"}], \"scattercarpet\": [{\"marker\": {\"colorbar\": {\"outlinewidth\": 0, \"ticks\": \"\"}}, \"type\": \"scattercarpet\"}], \"scattergeo\": [{\"marker\": {\"colorbar\": {\"outlinewidth\": 0, \"ticks\": \"\"}}, \"type\": \"scattergeo\"}], \"scattergl\": [{\"marker\": {\"colorbar\": {\"outlinewidth\": 0, \"ticks\": \"\"}}, \"type\": \"scattergl\"}], \"scattermapbox\": [{\"marker\": {\"colorbar\": {\"outlinewidth\": 0, \"ticks\": \"\"}}, \"type\": \"scattermapbox\"}], \"scatterpolar\": [{\"marker\": {\"colorbar\": {\"outlinewidth\": 0, \"ticks\": \"\"}}, \"type\": \"scatterpolar\"}], \"scatterpolargl\": [{\"marker\": {\"colorbar\": {\"outlinewidth\": 0, \"ticks\": \"\"}}, \"type\": \"scatterpolargl\"}], \"scatterternary\": [{\"marker\": {\"colorbar\": {\"outlinewidth\": 0, \"ticks\": \"\"}}, \"type\": \"scatterternary\"}], \"surface\": [{\"colorbar\": {\"outlinewidth\": 0, \"ticks\": \"\"}, \"colorscale\": [[0.0, \"#0d0887\"], [0.1111111111111111, \"#46039f\"], [0.2222222222222222, \"#7201a8\"], [0.3333333333333333, \"#9c179e\"], [0.4444444444444444, \"#bd3786\"], [0.5555555555555556, \"#d8576b\"], [0.6666666666666666, \"#ed7953\"], [0.7777777777777778, \"#fb9f3a\"], [0.8888888888888888, \"#fdca26\"], [1.0, \"#f0f921\"]], \"type\": \"surface\"}], \"table\": [{\"cells\": {\"fill\": {\"color\": \"#EBF0F8\"}, \"line\": {\"color\": \"white\"}}, \"header\": {\"fill\": {\"color\": \"#C8D4E3\"}, \"line\": {\"color\": \"white\"}}, \"type\": \"table\"}]}, \"layout\": {\"annotationdefaults\": {\"arrowcolor\": \"#2a3f5f\", \"arrowhead\": 0, \"arrowwidth\": 1}, \"coloraxis\": {\"colorbar\": {\"outlinewidth\": 0, \"ticks\": \"\"}}, \"colorscale\": {\"diverging\": [[0, \"#8e0152\"], [0.1, \"#c51b7d\"], [0.2, \"#de77ae\"], [0.3, \"#f1b6da\"], [0.4, \"#fde0ef\"], [0.5, \"#f7f7f7\"], [0.6, \"#e6f5d0\"], [0.7, \"#b8e186\"], [0.8, \"#7fbc41\"], [0.9, \"#4d9221\"], [1, \"#276419\"]], \"sequential\": [[0.0, \"#0d0887\"], [0.1111111111111111, \"#46039f\"], [0.2222222222222222, \"#7201a8\"], [0.3333333333333333, \"#9c179e\"], [0.4444444444444444, \"#bd3786\"], [0.5555555555555556, \"#d8576b\"], [0.6666666666666666, \"#ed7953\"], [0.7777777777777778, \"#fb9f3a\"], [0.8888888888888888, \"#fdca26\"], [1.0, \"#f0f921\"]], \"sequentialminus\": [[0.0, \"#0d0887\"], [0.1111111111111111, \"#46039f\"], [0.2222222222222222, \"#7201a8\"], [0.3333333333333333, \"#9c179e\"], [0.4444444444444444, \"#bd3786\"], [0.5555555555555556, \"#d8576b\"], [0.6666666666666666, \"#ed7953\"], [0.7777777777777778, \"#fb9f3a\"], [0.8888888888888888, \"#fdca26\"], [1.0, \"#f0f921\"]]}, \"colorway\": [\"#636efa\", \"#EF553B\", \"#00cc96\", \"#ab63fa\", \"#FFA15A\", \"#19d3f3\", \"#FF6692\", \"#B6E880\", \"#FF97FF\", \"#FECB52\"], \"font\": {\"color\": \"#2a3f5f\"}, \"geo\": {\"bgcolor\": \"white\", \"lakecolor\": \"white\", \"landcolor\": \"#E5ECF6\", \"showlakes\": true, \"showland\": true, \"subunitcolor\": \"white\"}, \"hoverlabel\": {\"align\": \"left\"}, \"hovermode\": \"closest\", \"mapbox\": {\"style\": \"light\"}, \"paper_bgcolor\": \"white\", \"plot_bgcolor\": \"#E5ECF6\", \"polar\": {\"angularaxis\": {\"gridcolor\": \"white\", \"linecolor\": \"white\", \"ticks\": \"\"}, \"bgcolor\": \"#E5ECF6\", \"radialaxis\": {\"gridcolor\": \"white\", \"linecolor\": \"white\", \"ticks\": \"\"}}, \"scene\": {\"xaxis\": {\"backgroundcolor\": \"#E5ECF6\", \"gridcolor\": \"white\", \"gridwidth\": 2, \"linecolor\": \"white\", \"showbackground\": true, \"ticks\": \"\", \"zerolinecolor\": \"white\"}, \"yaxis\": {\"backgroundcolor\": \"#E5ECF6\", \"gridcolor\": \"white\", \"gridwidth\": 2, \"linecolor\": \"white\", \"showbackground\": true, \"ticks\": \"\", \"zerolinecolor\": \"white\"}, \"zaxis\": {\"backgroundcolor\": \"#E5ECF6\", \"gridcolor\": \"white\", \"gridwidth\": 2, \"linecolor\": \"white\", \"showbackground\": true, \"ticks\": \"\", \"zerolinecolor\": \"white\"}}, \"shapedefaults\": {\"line\": {\"color\": \"#2a3f5f\"}}, \"ternary\": {\"aaxis\": {\"gridcolor\": \"white\", \"linecolor\": \"white\", \"ticks\": \"\"}, \"baxis\": {\"gridcolor\": \"white\", \"linecolor\": \"white\", \"ticks\": \"\"}, \"bgcolor\": \"#E5ECF6\", \"caxis\": {\"gridcolor\": \"white\", \"linecolor\": \"white\", \"ticks\": \"\"}}, \"title\": {\"x\": 0.05}, \"xaxis\": {\"automargin\": true, \"gridcolor\": \"white\", \"linecolor\": \"white\", \"ticks\": \"\", \"title\": {\"standoff\": 15}, \"zerolinecolor\": \"white\", \"zerolinewidth\": 2}, \"yaxis\": {\"automargin\": true, \"gridcolor\": \"white\", \"linecolor\": \"white\", \"ticks\": \"\", \"title\": {\"standoff\": 15}, \"zerolinecolor\": \"white\", \"zerolinewidth\": 2}}}, \"xaxis\": {\"title\": {\"text\": \"<b>order</b>\"}}, \"yaxis\": {\"title\": {\"text\": \"<b>averageRating</b>\"}}},                        {\"responsive\": true}                    ).then(function(){\n",
       "                            \n",
       "var gd = document.getElementById('6070c21c-ef17-4dc8-bf98-0b4d439df9c2');\n",
       "var x = new MutationObserver(function (mutations, observer) {{\n",
       "        var display = window.getComputedStyle(gd).display;\n",
       "        if (!display || display === 'none') {{\n",
       "            console.log([gd, 'removed!']);\n",
       "            Plotly.purge(gd);\n",
       "            observer.disconnect();\n",
       "        }}\n",
       "}});\n",
       "\n",
       "// Listen for the removal of the full notebook cells\n",
       "var notebookContainer = gd.closest('#notebook-container');\n",
       "if (notebookContainer) {{\n",
       "    x.observe(notebookContainer, {childList: true});\n",
       "}}\n",
       "\n",
       "// Listen for the clearing of the current output cell\n",
       "var outputEl = gd.closest('.output');\n",
       "if (outputEl) {{\n",
       "    x.observe(outputEl, {childList: true});\n",
       "}}\n",
       "\n",
       "                        })                };                });            </script>        </div>"
      ]
     },
     "metadata": {},
     "output_type": "display_data"
    }
   ],
   "source": [
    "color_var = \"Franchise\"\n",
    "x_var = \"order\"\n",
    "y_var = \"averageRating\"\n",
    "lvls = df_franchises[color_var].unique()\n",
    "n_levels = len(lvls)\n",
    "cmap = LinearSegmentedColormap.from_list(\"my_palette\", [\"#111539\", \"#97A1D9\"])\n",
    "my_palette = [to_hex(j) for j in [cmap(i/n_levels) for i in np.array(range(n_levels))]]\n",
    "fig = go.Figure()\n",
    "for l, lvl in enumerate(lvls):\n",
    "    fig.add_trace(\n",
    "        go.Scatter(\n",
    "            x = df_franchises[x_var][df_franchises[color_var] == lvl],\n",
    "            y = df_franchises[y_var][df_franchises[color_var] == lvl],\n",
    "            mode = \"lines+markers\",\n",
    "            line = {\n",
    "                \"width\": 5,\n",
    "                \"color\": my_palette[l]\n",
    "            },\n",
    "            marker = {\n",
    "                \"size\": 10,\n",
    "                \"color\": my_palette[l]\n",
    "            },\n",
    "            name = lvl,\n",
    "            hovertemplate =  \"<b>\" + x_var + \": %{x:}<br>\" +\n",
    "                             y_var + \": %{y:}<br>\" + \n",
    "                             color_var + \": \" + lvl + \n",
    "                             \"</b><extra></extra>\"\n",
    "        )\n",
    "    )\n",
    "fig.update_layout(\n",
    "    xaxis_title = \"<b>\" + x_var + \"</b>\" ,\n",
    "    yaxis_title = \"<b>\" + y_var + \"</b>\",\n",
    "    font = dict(\n",
    "        size = 18\n",
    "    ),\n",
    "    showlegend = True,\n",
    "    legend_title_text = \"<b>\" + color_var + \"</b>\",\n",
    "    plot_bgcolor = \"white\",\n",
    "    hoverlabel = dict(\n",
    "        font_size = 20,\n",
    "        font_family = \"Rockwell\"\n",
    "    )\n",
    ")\n",
    "fig.show()\n"
   ]
  },
  {
   "cell_type": "code",
   "execution_count": null,
   "metadata": {},
   "outputs": [],
   "source": []
  },
  {
   "cell_type": "code",
   "execution_count": null,
   "metadata": {},
   "outputs": [],
   "source": []
  },
  {
   "cell_type": "code",
   "execution_count": null,
   "metadata": {},
   "outputs": [],
   "source": []
  },
  {
   "cell_type": "code",
   "execution_count": null,
   "metadata": {},
   "outputs": [],
   "source": []
  }
 ],
 "metadata": {
  "kernelspec": {
   "display_name": "Python 3",
   "language": "python",
   "name": "python3"
  },
  "language_info": {
   "codemirror_mode": {
    "name": "ipython",
    "version": 3
   },
   "file_extension": ".py",
   "mimetype": "text/x-python",
   "name": "python",
   "nbconvert_exporter": "python",
   "pygments_lexer": "ipython3",
   "version": "3.7.6"
  }
 },
 "nbformat": 4,
 "nbformat_minor": 4
}
